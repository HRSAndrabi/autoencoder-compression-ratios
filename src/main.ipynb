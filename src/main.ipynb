{
 "cells": [
  {
   "cell_type": "code",
   "execution_count": 4,
   "metadata": {},
   "outputs": [],
   "source": [
    "import numpy as np\n",
    "import pandas as pd\n",
    "import scipy.special\n",
    "import matplotlib.pyplot as plt\n",
    "import json\n",
    "import types\n",
    "import copy\n",
    "from enum import Enum\n"
   ]
  },
  {
   "cell_type": "code",
   "execution_count": 5,
   "metadata": {},
   "outputs": [],
   "source": [
    "class NumpyEncoder(json.JSONEncoder):\n",
    "    def default(self, obj):\n",
    "        if isinstance(obj, np.ndarray):\n",
    "            return obj.tolist()\n",
    "        return json.JSONEncoder.default(self, obj)"
   ]
  },
  {
   "cell_type": "code",
   "execution_count": 6,
   "metadata": {},
   "outputs": [],
   "source": [
    "class Sigmoid:\n",
    "\t\"\"\"Implementation of the sigmoid function.\n",
    "\t\"\"\"\n",
    "\tdef activation(self, x):\n",
    "\t\treturn scipy.special.expit(x)\n",
    "\n",
    "\tdef derrivative(self, x):\n",
    "\t\treturn x * (1 - x)\n",
    "\n",
    "class ActivationFunctions(Enum):\n",
    "\t\"\"\"Enumeration to keep track of implemented activation \n",
    "\tfunctions for initial model validation.\n",
    "\t\"\"\"\n",
    "\tsigmoid = Sigmoid()"
   ]
  },
  {
   "cell_type": "code",
   "execution_count": 7,
   "metadata": {},
   "outputs": [],
   "source": [
    "class AutoEncoder:\n",
    "\t\"\"\"Abstract implementation of an autoencoder network.\n",
    "\t\"\"\"\n",
    "\n",
    "\tdef __init__(self, spec:dict=None, learning_rate:int=0.05):\n",
    "\t\tif spec:\n",
    "\t\t\tif not \"input\" in [layer[\"type\"] for layer in spec[\"layers\"]]:\n",
    "\t\t\t\traise ValueError(\"Models must contain at least one input layer.\")\n",
    "\t\t\tif not \"hidden\" in [layer[\"type\"] for layer in spec[\"layers\"]]:\n",
    "\t\t\t\traise ValueError(\"Models must contain at least one hidden layer.\")\n",
    "\t\t\tif not \"output\" in [layer[\"type\"] for layer in spec[\"layers\"]]:\n",
    "\t\t\t\traise ValueError(\"Models must contain at least one output layer.\")\n",
    "\t\t\tif 0 in [layer[\"nodes\"] for layer in spec[\"layers\"]]:\n",
    "\t\t\t\traise ValueError(\"All layers must contain at least one node.\")\n",
    "\t\t\tif len(list(set([layer[\"activation_func\"] for layer in spec[\"layers\"][1:]]).difference(ActivationFunctions._member_names_))):\n",
    "\t\t\t\traise NotImplementedError(\n",
    "\t\t\t\t\tf\"One or more specified activation functions are not implemented. Implemented functions include: {', '.join(ActivationFunctions._member_names_)}\"\n",
    "\t\t\t\t)\n",
    "\n",
    "\t\t\tself.spec = spec\n",
    "\t\t\tself.learning_rate = learning_rate\n",
    "\t\t\t\n",
    "\t\t\tfor i, layer in enumerate(spec[\"layers\"]):\n",
    "\t\t\t\tif layer[\"type\"] != \"output\":\n",
    "\t\t\t\t\tnext_layer = spec[\"layers\"][i+1]\n",
    "\t\t\t\t\tself.spec[\"layers\"][i][\"weights\"] = np.random.normal(\n",
    "\t\t\t\t\t\tloc=0.0, \n",
    "\t\t\t\t\t\tscale=pow(next_layer[\"nodes\"], -0.5), \n",
    "\t\t\t\t\t\tsize=(next_layer[\"nodes\"], layer[\"nodes\"])\n",
    "\t\t\t\t\t)\n",
    "\t\t\t\t\tif self.spec.get(\"bias\", False):\n",
    "\t\t\t\t\t\tself.spec[\"layers\"][i][\"bias\"] = np.random.normal(\n",
    "\t\t\t\t\t\t\tloc=0.0, \n",
    "\t\t\t\t\t\t\tscale=pow(next_layer[\"nodes\"], -0.5), \n",
    "\t\t\t\t\t\t\tsize=(next_layer[\"nodes\"],1)\n",
    "\t\t\t\t\t\t)\n",
    "\t\t\tself.model_summary()\n",
    "\t\n",
    "\tdef train(self, instances:list, epochs:int=1) -> None:\n",
    "\t\t\"\"\"Trains model using input instances and labels.\n",
    "\n",
    "\t\tArgs:\n",
    "\t\t\tinstances (list): tensor of input instances.\n",
    "\t\t\tepochs (int, optional): number of epochs for which to\n",
    "\t\t\ttrain the model. Defaults to 1.\n",
    "\t\t\"\"\"\n",
    "\t\tprint(\"\\n\".join([\n",
    "\t\t\t\"========================================\",\n",
    "\t\t\t\"Training Model\",\n",
    "\t\t\t\"========================================\",\n",
    "\t\t]))\n",
    "\t\tfor epoch in range(epochs):\n",
    "\t\t\tprint(f\"Epoch: {epoch}/{epochs}\")\n",
    "\t\t\tfor i, instance in enumerate(instances):\n",
    "\t\t\t\tif (((i+1)/len(instances)) * 100) % 25 == 0:\n",
    "\t\t\t\t\tprint(f\"Progress: {((i+1)/len(instances)) * 100}%\")\n",
    "\t\t\t\t\n",
    "\t\t\t\tactivations = self.forward_pass(instance)\n",
    "\t\t\t\tself.backpropogate(instance, activations)\n",
    "\n",
    "\tdef forward_pass(self, instance:list) -> list:\n",
    "\t\t\"\"\"Conducts a forward pass through the model,\n",
    "\t\tgenerating activations for hidden and output\n",
    "\t\tlayer(s).\n",
    "\n",
    "\t\tArgs:\n",
    "\t\t\tinstance (list): instance for which to conduct forward \n",
    "\t\t\tpass.\n",
    "\n",
    "\t\tReturns:\n",
    "\t\t\tlist: list of dictionaries containing activations\n",
    "\t\t\tat each layer.\n",
    "\t\t\"\"\"\n",
    "\t\tactivations = copy.deepcopy(self.spec[\"layers\"])\n",
    "\t\tfor i, layer in enumerate(activations):\n",
    "\t\t\tif layer[\"type\"] == \"input\":\n",
    "\t\t\t\tactivations[i][\"activations\"] = np.array(instance, ndmin=2)\n",
    "\t\t\telse:\n",
    "\t\t\t\tactivation_func = ActivationFunctions[layer[\"activation_func\"]].value\n",
    "\t\t\t\tbias = activations[i-1].get(\"bias\", 0)\n",
    "\t\t\t\tinputs = np.dot(activations[i-1][\"weights\"], activations[i-1][\"activations\"].T) - bias\n",
    "\t\t\t\tactivations[i][\"activations\"] = activation_func.activation(inputs).T\n",
    "\t\treturn activations\n",
    "\n",
    "\tdef backpropogate(self, instance:list, activations:list) -> None:\n",
    "\t\t\"\"\"Adjusts model weights through backpropogation.\n",
    "\t\tImplemented backpropogation assumes sigmoid activation\n",
    "\t\tfunctions.\n",
    "\n",
    "\t\tArgs:\n",
    "\t\t\tinstance (list): instance for which to backpropogate.\n",
    "\t\t\tactivations (list): list of dictionaries containing activations\n",
    "\t\t\tat each layer. Output by self.forward_pass.\n",
    "\t\t\"\"\"\n",
    "\t\tfor i, layer in reversed(list(enumerate(activations))[1:]):\n",
    "\t\t\tif layer[\"type\"] == \"output\":\n",
    "\t\t\t\tactivations[i][\"errors\"] = np.array(instance, ndmin=2).T - layer[\"activations\"].T\n",
    "\t\t\telse:\n",
    "\t\t\t\tactivations[i][\"errors\"] = np.dot(layer[\"weights\"].T, activations[i+1][\"errors\"])\n",
    "\n",
    "\t\t\tactivation_func = ActivationFunctions[layer[\"activation_func\"]].value\n",
    "\t\t\t\n",
    "\t\t\tself.spec[\"layers\"][i-1][\"weights\"] += self.learning_rate * (\n",
    "\t\t\t\tnp.dot(\n",
    "\t\t\t\t\tactivations[i][\"errors\"] * activation_func.derrivative(activations[i][\"activations\"].T),\n",
    "\t\t\t\t\tactivations[i-1][\"activations\"]\n",
    "\t\t\t\t)\n",
    "\t\t\t)\n",
    "\t\t\tif self.spec[\"bias\"]:\n",
    "\t\t\t\tself.spec[\"layers\"][i-1][\"bias\"] += self.learning_rate * (\n",
    "\t\t\t\t\tactivations[i][\"errors\"] * activation_func.derrivative(activations[i][\"activations\"].T) * -1\n",
    "\t\t\t\t)\n",
    "\n",
    "\tdef query(self, instance:list) -> None:\n",
    "\t\t\"\"\"Queries the trained model to encode and reconstruct\n",
    "\t\tan input instance.\n",
    "\n",
    "\t\tArgs:\n",
    "\t\t\tinstance (list): instance to resconstruct.\n",
    "\t\t\"\"\"\n",
    "\t\tactivations = self.forward_pass(instance)\n",
    "\t\treconstructed_instance = activations[-1][\"activations\"].T\n",
    "\n",
    "\t\tfig, axes = plt.subplots(figsize=(10, 10), nrows=1, ncols=2, sharey=True, sharex=True)\n",
    "\t\tfor ax, img in zip(axes.flatten(), [instance, reconstructed_instance]):\n",
    "\t\t\tax.xaxis.set_visible(False)\n",
    "\t\t\tax.yaxis.set_visible(False)\n",
    "\t\t\tim = ax.imshow(np.array(img, ndmin=2).T.reshape(28,28), cmap = plt.get_cmap(\"gray\"))  \n",
    "\n",
    "\tdef save(self, dir_path:str) -> None:\n",
    "\t\t\"\"\"Writes trained model spec to json.\n",
    "\t\t\n",
    "\t\tArgs:\n",
    "\t\t\tdir_path (str): path to directory in which to save model.\n",
    "\t\t\"\"\"\n",
    "\t\twith open(f\"{dir_path}{self.spec['name']}.json\", \"w\") as f:\n",
    "\t\t\tjson.dump(self.spec, f, cls=NumpyEncoder)\n",
    "\t\t\tprint(f\"Model saved to {dir_path}{self.spec['name']}.json.\")\n",
    "\n",
    "\tdef load(self, path_to_spec:str) -> dict:\n",
    "\t\t\"\"\"Loads in a trained model from json specification file.\n",
    "\n",
    "\t\tArgs:\n",
    "\t\t\tpath_to_spec (str): path to json specification file.\n",
    "\n",
    "\t\tReturns:\n",
    "\t\t\tdict: trained model specification.\n",
    "\t\t\"\"\"\n",
    "\t\tprint(f\"Loading model from: {path_to_spec} ...\")\n",
    "\t\twith open(path_to_spec) as f:\n",
    "\t\t\tspec = json.load(f)\n",
    "\t\t\tfor i, layer in enumerate(spec[\"layers\"][:-1]):\n",
    "\t\t\t\tspec[\"layers\"][i][\"weights\"] = np.asarray(spec[\"layers\"][i][\"weights\"])\n",
    "\t\t\tself.spec = spec\n",
    "\t\t\tself.model_summary()\n",
    "\t\n",
    "\tdef evaluate(self, instances, labels):\n",
    "\t\tpass\n",
    "\n",
    "\tdef model_summary(self):\n",
    "\t\tprint(\"\\n\".join([\n",
    "\t\t\t\"========================================\",\n",
    "\t\t\t\"Model summary: {}\".format(self.spec[\"name\"]),\n",
    "\t\t\t\"========================================\",\n",
    "\t\t\t*[\"{} layer:\t{} nodes\".format(layer[\"type\"].title(), layer[\"nodes\"]) for layer in self.spec[\"layers\"]],\n",
    "\t\t\t\"========================================\",\n",
    "\t\t]))"
   ]
  },
  {
   "cell_type": "code",
   "execution_count": 8,
   "metadata": {},
   "outputs": [],
   "source": [
    "def load_mnist_data(file_path:str, nrows:int=0) -> tuple[list, list]:\n",
    "\t\"\"\"Reads in MNIST dataset, aquired from: \n",
    "\thttps://www.kaggle.com/datasets/oddrationale/mnist-in-csv.\n",
    "\n",
    "\tArgs:\n",
    "\t\tfile_path (str): file path to the dataset.\n",
    "\t\tnrows (int, optional): number of rows to read in. \n",
    "\t\tDefaults to all rows.\n",
    "\n",
    "\tReturns:\n",
    "\t\ttuple[list, list]: image instances, and corresponding \n",
    "\t\tone-hot encoded labels.\n",
    "\t\"\"\"\n",
    "\tif nrows:\n",
    "\t\tdf = pd.read_csv(filepath_or_buffer=file_path, nrows=nrows)\n",
    "\telse: \n",
    "\t\tdf = pd.read_csv(filepath_or_buffer=file_path)\n",
    "\tx = ((df[df.columns[1:]]/255 * 0.99) + 0.01).to_numpy()\n",
    "\ty = pd.get_dummies(df[\"label\"]).to_numpy()\n",
    "\treturn x, y\n",
    "\n",
    "x_train, y_train = load_mnist_data(\n",
    "\tfile_path=\"data/mnist_train.csv\",\n",
    ")\n",
    "x_test, y_test = load_mnist_data(\n",
    "\tfile_path=\"data/mnist_test.csv\",\n",
    "\tnrows=100,\n",
    ")"
   ]
  },
  {
   "cell_type": "code",
   "execution_count": null,
   "metadata": {},
   "outputs": [],
   "source": [
    "base_spec = {\n",
    "\t\"name\": None,\n",
    "\t\"layers\": [\n",
    "\t\t{ \"type\": \"input\", \"nodes\": 784 },\n",
    "\t\t{ \"type\": \"hidden\", \"nodes\": None, \"activation_func\": \"sigmoid\" },\n",
    "\t\t{ \"type\": \"output\", \"nodes\": 784, \"activation_func\": \"sigmoid\" },\n",
    "\t],\n",
    "\t\"bias\": False,\n",
    "}\n",
    "\n",
    "for hl in [2, 4, 8, 16, 32, 64, 128]:\n",
    "\tfor bias in [True, False]:\n",
    "\t\tspec = base_spec\n",
    "\t\tspec[\"bias\"] = bias\n",
    "\t\tif bias:\n",
    "\t\t\tspec[\"name\"] = f\"hl_{hl}_bias\"\n",
    "\t\telse:\n",
    "\t\t\tspec[\"name\"] = f\"hl_{hl}\"\n",
    "\t\tspec[\"layers\"][1][\"nodes\"] = hl\n",
    "\t\tmodel = AutoEncoder(spec, 0.05)\n",
    "\t\tmodel.train(instances=x_train, epochs=50)\n",
    "\t\tmodel.save(dir_path=\"./models/\")\n"
   ]
  },
  {
   "cell_type": "code",
   "execution_count": 16,
   "metadata": {},
   "outputs": [
    {
     "name": "stdout",
     "output_type": "stream",
     "text": [
      "========================================\n",
      "Model summary: hl_16_10_16_bias\n",
      "========================================\n",
      "Input layer:\t784 nodes\n",
      "Hidden layer:\t16 nodes\n",
      "Hidden layer:\t10 nodes\n",
      "Hidden layer:\t16 nodes\n",
      "Output layer:\t784 nodes\n",
      "========================================\n",
      "========================================\n",
      "Training Model\n",
      "========================================\n",
      "Epoch: 0/10\n",
      "Progress: 25.0%\n",
      "Progress: 50.0%\n",
      "Progress: 75.0%\n",
      "Progress: 100.0%\n",
      "Epoch: 1/10\n",
      "Progress: 25.0%\n",
      "Progress: 50.0%\n",
      "Progress: 75.0%\n",
      "Progress: 100.0%\n",
      "Epoch: 2/10\n",
      "Progress: 25.0%\n",
      "Progress: 50.0%\n",
      "Progress: 75.0%\n",
      "Progress: 100.0%\n",
      "Epoch: 3/10\n",
      "Progress: 25.0%\n",
      "Progress: 50.0%\n",
      "Progress: 75.0%\n",
      "Progress: 100.0%\n",
      "Epoch: 4/10\n",
      "Progress: 25.0%\n",
      "Progress: 50.0%\n",
      "Progress: 75.0%\n",
      "Progress: 100.0%\n",
      "Epoch: 5/10\n",
      "Progress: 25.0%\n",
      "Progress: 50.0%\n",
      "Progress: 75.0%\n",
      "Progress: 100.0%\n",
      "Epoch: 6/10\n",
      "Progress: 25.0%\n",
      "Progress: 50.0%\n",
      "Progress: 75.0%\n",
      "Progress: 100.0%\n",
      "Epoch: 7/10\n",
      "Progress: 25.0%\n",
      "Progress: 50.0%\n",
      "Progress: 75.0%\n",
      "Progress: 100.0%\n",
      "Epoch: 8/10\n",
      "Progress: 25.0%\n",
      "Progress: 50.0%\n",
      "Progress: 75.0%\n",
      "Progress: 100.0%\n",
      "Epoch: 9/10\n",
      "Progress: 25.0%\n",
      "Progress: 50.0%\n",
      "Progress: 75.0%\n",
      "Progress: 100.0%\n",
      "Model saved to ./models/scratch/hl_16_10_16_bias.json.\n"
     ]
    }
   ],
   "source": [
    "spec = {\n",
    "\t\"name\": \"hl_16_10_16_bias\",\n",
    "\t\"layers\": [\n",
    "\t\t{ \"type\": \"input\", \"nodes\": 784 },\n",
    "\t\t{ \"type\": \"hidden\", \"nodes\": 16, \"activation_func\": \"sigmoid\" },\n",
    "\t\t{ \"type\": \"hidden\", \"nodes\": 10, \"activation_func\": \"sigmoid\" },\n",
    "\t\t{ \"type\": \"hidden\", \"nodes\": 16, \"activation_func\": \"sigmoid\" },\n",
    "\t\t{ \"type\": \"output\", \"nodes\": 784, \"activation_func\": \"sigmoid\" },\n",
    "\t],\n",
    "\t\"bias\": True,\n",
    "}\n",
    "\n",
    "model = AutoEncoder(spec, 0.01)\n",
    "model.train(instances=x_train, epochs=10)\n",
    "model.save(dir_path=\"./models/scratch/\")"
   ]
  },
  {
   "cell_type": "code",
   "execution_count": 17,
   "metadata": {},
   "outputs": [
    {
     "name": "stdout",
     "output_type": "stream",
     "text": [
      "Loading model from: ./models/scratch/hl_16_10_16_bias.json ...\n",
      "========================================\n",
      "Model summary: hl_16_10_16_bias\n",
      "========================================\n",
      "Input layer:\t784 nodes\n",
      "Hidden layer:\t16 nodes\n",
      "Hidden layer:\t10 nodes\n",
      "Hidden layer:\t16 nodes\n",
      "Output layer:\t784 nodes\n",
      "========================================\n"
     ]
    },
    {
     "data": {
      "image/png": "[encoded data removed]",
      "text/plain": [
       "<Figure size 720x720 with 2 Axes>"
      ]
     },
     "metadata": {
      "needs_background": "light"
     },
     "output_type": "display_data"
    },
    {
     "data": {
      "image/png": "[encoded data removed]",
      "text/plain": [
       "<Figure size 720x720 with 2 Axes>"
      ]
     },
     "metadata": {
      "needs_background": "light"
     },
     "output_type": "display_data"
    },
    {
     "data": {
      "image/png": "[encoded data removed]",
      "text/plain": [
       "<Figure size 720x720 with 2 Axes>"
      ]
     },
     "metadata": {
      "needs_background": "light"
     },
     "output_type": "display_data"
    },
    {
     "data": {
      "image/png": "[encoded data removed]",
      "text/plain": [
       "<Figure size 720x720 with 2 Axes>"
      ]
     },
     "metadata": {
      "needs_background": "light"
     },
     "output_type": "display_data"
    },
    {
     "data": {
      "image/png": "[encoded data removed]",
      "text/plain": [
       "<Figure size 720x720 with 2 Axes>"
      ]
     },
     "metadata": {
      "needs_background": "light"
     },
     "output_type": "display_data"
    },
    {
     "data": {
      "image/png": "[encoded data removed]",
      "text/plain": [
       "<Figure size 720x720 with 2 Axes>"
      ]
     },
     "metadata": {
      "needs_background": "light"
     },
     "output_type": "display_data"
    },
    {
     "data": {
      "image/png": "[encoded data removed]",
      "text/plain": [
       "<Figure size 720x720 with 2 Axes>"
      ]
     },
     "metadata": {
      "needs_background": "light"
     },
     "output_type": "display_data"
    },
    {
     "data": {
      "image/png": "[encoded data removed]",
      "text/plain": [
       "<Figure size 720x720 with 2 Axes>"
      ]
     },
     "metadata": {
      "needs_background": "light"
     },
     "output_type": "display_data"
    },
    {
     "data": {
      "image/png": "[encoded data removed]",
      "text/plain": [
       "<Figure size 720x720 with 2 Axes>"
      ]
     },
     "metadata": {
      "needs_background": "light"
     },
     "output_type": "display_data"
    },
    {
     "data": {
      "image/png": "[encoded data removed]",
      "text/plain": [
       "<Figure size 720x720 with 2 Axes>"
      ]
     },
     "metadata": {
      "needs_background": "light"
     },
     "output_type": "display_data"
    }
   ],
   "source": [
    "model = AutoEncoder()\n",
    "model.load(\"./models/scratch/hl_16_bias.json\")\n",
    "for i in range(10, 20):\n",
    "\tmodel.query(instance=x_train[i])"
   ]
  }
 ],
 "metadata": {
  "kernelspec": {
   "display_name": "Python 3.10.6 64-bit",
   "language": "python",
   "name": "python3"
  },
  "language_info": {
   "codemirror_mode": {
    "name": "ipython",
    "version": 3
   },
   "file_extension": ".py",
   "mimetype": "text/x-python",
   "name": "python",
   "nbconvert_exporter": "python",
   "pygments_lexer": "ipython3",
   "version": "3.10.6"
  },
  "orig_nbformat": 4,
  "vscode": {
   "interpreter": {
    "hash": "aee8b7b246df8f9039afb4144a1f6fd8d2ca17a180786b69acc140d282b71a49"
   }
  }
 },
 "nbformat": 4,
 "nbformat_minor": 2
}
