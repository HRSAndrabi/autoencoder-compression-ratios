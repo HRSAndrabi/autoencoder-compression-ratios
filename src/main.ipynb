{
 "cells": [
  {
   "cell_type": "code",
   "execution_count": 61,
   "metadata": {},
   "outputs": [],
   "source": [
    "import numpy as np\n",
    "import pandas as pd\n",
    "import scipy.special"
   ]
  },
  {
   "cell_type": "code",
   "execution_count": 74,
   "metadata": {},
   "outputs": [],
   "source": [
    "class AutoEncoder:\n",
    "\n",
    "\tdef __init__(self, spec:dict, learning_rate:int=0.05):\n",
    "\t\tif not \"input\" in [layer[\"type\"] for layer in spec[\"layers\"]]:\n",
    "\t\t\traise ValueError(\"Models must contain at least one input layer.\")\n",
    "\t\tif not \"hidden\" in [layer[\"type\"] for layer in spec[\"layers\"]]:\n",
    "\t\t\traise ValueError(\"Models must contain at least one hidden layer.\")\n",
    "\t\tif not \"output\" in [layer[\"type\"] for layer in spec[\"layers\"]]:\n",
    "\t\t\traise ValueError(\"Models must contain at least one output layer.\")\n",
    "\t\tif 0 in [layer[\"nodes\"] for layer in spec[\"layers\"]]:\n",
    "\t\t\traise ValueError(\"All layers must contain at least one node.\")\n",
    "\n",
    "\t\tself.spec = spec\n",
    "\t\t\n",
    "\t\tfor i, layer in enumerate(spec[\"layers\"]):\n",
    "\t\t\tif i < len(spec[\"layers\"]) - 1:\n",
    "\t\t\t\tnext_layer = spec[\"layers\"][i+1]\n",
    "\t\t\t\tself.spec[\"layers\"][i][\"weights\"] = np.random.normal(\n",
    "\t\t\t\t\tloc=0.0, \n",
    "\t\t\t\t\tscale=pow(layer[\"nodes\"], -0.5), \n",
    "\t\t\t\t\tsize=(next_layer[\"nodes\"], layer[\"nodes\"])\n",
    "\t\t\t\t)\n",
    "\t\tself.model_summary()\n",
    "\t\n",
    "\tdef train(self, instances:list, epochs:int=1) -> None:\n",
    "\t\t\"\"\"Trains model using input instances and labels.\n",
    "\n",
    "\t\tArgs:\n",
    "\t\t\tinstances (list): tensor of input instances.\n",
    "\t\t\tepochs (int, optional): number of epochs for which to\n",
    "\t\t\ttrain the model. Defaults to 1.\n",
    "\t\t\"\"\"\n",
    "\t\tprint(\"\\n\".join([\n",
    "\t\t\t\"========================================\",\n",
    "\t\t\t\"Training Model\",\n",
    "\t\t\t\"========================================\",\n",
    "\t\t]))\n",
    "\t\tfor epoch in range(epochs):\n",
    "\t\t\tprint(f\"Epoch: {epoch}/{epochs}\")\n",
    "\t\t\tfor i, instance in enumerate(instances):\n",
    "\t\t\t\tif (((i+1)/len(instances)) * 100) % 10 == 0:\n",
    "\t\t\t\t\tprint(f\"Progress: {((i+1)/len(instances)) * 100}%\")\n",
    "\t\n",
    "\tdef query(self, instances):\n",
    "\t\tpass\n",
    "\t\n",
    "\tdef evaluate(self, instances, labels):\n",
    "\t\tpass\n",
    "\n",
    "\tdef model_summary(self):\n",
    "\t\tprint(\"\\n\".join([\n",
    "\t\t\t\"========================================\",\n",
    "\t\t\t\"Model summary: {}\".format(self.spec[\"name\"]),\n",
    "\t\t\t\"========================================\",\n",
    "\t\t\t*[\"{} layer:\t{} nodes\".format(layer[\"type\"].title(), layer[\"nodes\"]) for layer in self.spec[\"layers\"]],\n",
    "\t\t\t\"========================================\",\n",
    "\t\t]))"
   ]
  },
  {
   "cell_type": "code",
   "execution_count": 75,
   "metadata": {},
   "outputs": [
    {
     "name": "stdout",
     "output_type": "stream",
     "text": [
      "========================================\n",
      "Model summary\n",
      "========================================\n",
      "Input layer:\t784 nodes\n",
      "Hidden layer:\t32 nodes\n",
      "Hidden layer:\t10 nodes\n",
      "Hidden layer:\t32 nodes\n",
      "Output layer:\t784 nodes\n",
      "========================================\n"
     ]
    }
   ],
   "source": [
    "spec = {\n",
    "\t\"name\": \"MNIST_autoencoder\",\n",
    "\t\"layers\": [\n",
    "\t\t{ \"type\": \"input\", \"nodes\": 784 },\n",
    "\t\t{ \"type\": \"hidden\", \"nodes\": 32, \"activation_func\": lambda x: scipy.special.expit(x) },\n",
    "\t\t{ \"type\": \"hidden\", \"nodes\": 10, \"activation_func\": lambda x: scipy.special.expit(x) },\n",
    "\t\t{ \"type\": \"hidden\", \"nodes\": 32, \"activation_func\": lambda x: scipy.special.expit(x) },\n",
    "\t\t{ \"type\": \"output\", \"nodes\": 784, \"activation_func\": lambda x: x * (x > 0) },\n",
    "\t],\n",
    "}\n",
    "\n",
    "model = AutoEncoder(spec, 0.05)"
   ]
  },
  {
   "cell_type": "code",
   "execution_count": 64,
   "metadata": {},
   "outputs": [],
   "source": [
    "def load_mnist_data(file_path:str, nrows:int=0) -> tuple[list, list]:\n",
    "\t\"\"\"Reads in MNIST dataset, aquired from: \n",
    "\thttps://www.kaggle.com/datasets/oddrationale/mnist-in-csv.\n",
    "\n",
    "\tArgs:\n",
    "\t\tfile_path (str): file path to the dataset.\n",
    "\t\tnrows (int, optional): number of rows to read in. \n",
    "\t\tDefaults to all rows.\n",
    "\n",
    "\tReturns:\n",
    "\t\ttuple[list, list]: image instances, and corresponding \n",
    "\t\tone-hot encoded labels.\n",
    "\t\"\"\"\n",
    "\tif nrows:\n",
    "\t\tdf = pd.read_csv(filepath_or_buffer=file_path, nrows=nrows)\n",
    "\telse: \n",
    "\t\tdf = pd.read_csv(filepath_or_buffer=file_path)\n",
    "\tx = df[df.columns[1:]].to_numpy()\n",
    "\ty = pd.get_dummies(df[\"label\"]).to_numpy()\n",
    "\treturn x, y\n",
    "\n",
    "x_train, y_train = load_mnist_data(\n",
    "\tfile_path=\"data/mnist_train.csv\",\n",
    "\tnrows=1000,\n",
    ")\n",
    "x_test, y_test = load_mnist_data(\n",
    "\tfile_path=\"data/mnist_test.csv\",\n",
    "\tnrows=100,\n",
    ")\n"
   ]
  },
  {
   "cell_type": "code",
   "execution_count": 65,
   "metadata": {},
   "outputs": [
    {
     "name": "stdout",
     "output_type": "stream",
     "text": [
      "========================================\n",
      "Training Model\n",
      "========================================\n",
      "Epoch: 0/1\n",
      "Progress: 10.0%\n",
      "Progress: 20.0%\n",
      "Progress: 30.0%\n",
      "Progress: 40.0%\n",
      "Progress: 50.0%\n",
      "Progress: 60.0%\n",
      "Progress: 70.0%\n",
      "Progress: 80.0%\n",
      "Progress: 90.0%\n",
      "Progress: 100.0%\n"
     ]
    }
   ],
   "source": [
    "model.train(instances=x_train)"
   ]
  }
 ],
 "metadata": {
  "kernelspec": {
   "display_name": "Python 3.10.6 64-bit",
   "language": "python",
   "name": "python3"
  },
  "language_info": {
   "codemirror_mode": {
    "name": "ipython",
    "version": 3
   },
   "file_extension": ".py",
   "mimetype": "text/x-python",
   "name": "python",
   "nbconvert_exporter": "python",
   "pygments_lexer": "ipython3",
   "version": "3.10.6"
  },
  "orig_nbformat": 4,
  "vscode": {
   "interpreter": {
    "hash": "aee8b7b246df8f9039afb4144a1f6fd8d2ca17a180786b69acc140d282b71a49"
   }
  }
 },
 "nbformat": 4,
 "nbformat_minor": 2
}
