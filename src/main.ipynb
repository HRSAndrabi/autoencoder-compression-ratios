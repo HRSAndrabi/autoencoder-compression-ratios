{
 "cells": [
  {
   "cell_type": "code",
   "execution_count": 7,
   "metadata": {},
   "outputs": [],
   "source": [
    "import numpy as np\n",
    "import scipy.special"
   ]
  },
  {
   "cell_type": "code",
   "execution_count": 8,
   "metadata": {},
   "outputs": [],
   "source": [
    "class AutoEncoder:\n",
    "\n",
    "\tdef __init__(self, spec:dict, learning_rate:int=0.05):\n",
    "\t\tif not len(spec[\"hidden_layers\"]):\n",
    "\t\t\traise ValueError(\"Models must contain at least one hidden layer.\")\n",
    "\t\tif not spec[\"input_layer\"][\"nodes\"] or not spec[\"output_layer\"][\"nodes\"] or 0 in [layer[\"nodes\"] for layer in spec[\"hidden_layers\"]]:\n",
    "\t\t\traise ValueError(\"All layers must contain at least one node.\")\n",
    "\n",
    "\t\tself.spec = spec\n",
    "\t\tself.spec[\"input_layer\"][\"weights\"] = np.random.normal(\n",
    "\t\t\tloc=0.0, \n",
    "\t\t\tscale=pow(self.spec[\"input_layer\"][\"nodes\"], -0.5), \n",
    "\t\t\tsize=(self.spec[\"hidden_layers\"][0][\"nodes\"], self.spec[\"input_layer\"][\"nodes\"])\n",
    "\t\t)\n",
    "\t\tfor i, hidden_layer in enumerate(spec[\"hidden_layers\"]):\n",
    "\t\t\tif i < len(spec[\"hidden_layers\"]) - 1:\n",
    "\t\t\t\tnext_layer = spec[\"hidden_layers\"][i+1]\n",
    "\t\t\telse:\n",
    "\t\t\t\tnext_layer = spec[\"output_layer\"]\n",
    "\t\t\tself.spec[\"hidden_layers\"][i][\"weights\"] = np.random.normal(\n",
    "\t\t\t\tloc=0.0, \n",
    "\t\t\t\tscale=pow(hidden_layer[\"nodes\"], -0.5), \n",
    "\t\t\t\tsize=(next_layer[\"nodes\"], hidden_layer[\"nodes\"])\n",
    "\t\t\t)\n",
    "\t\tself.model_summary()\n",
    "\t\n",
    "\tdef train(self, instances, epochs=1):\n",
    "\t\tpass\n",
    "\t\n",
    "\tdef query(self, instances):\n",
    "\t\tpass\n",
    "\t\n",
    "\tdef evaluate(self, instances):\n",
    "\t\tpass\n",
    "\n",
    "\tdef model_summary(self):\n",
    "\t\tprint(\"\\n\".join([\n",
    "\t\t\t\"========================================\",\n",
    "\t\t\t\"Initialised model\",\n",
    "\t\t\t\"========================================\",\n",
    "\t\t\t\"Input layer: \t\t{} nodes\".format(self.spec[\"input_layer\"][\"nodes\"]),\n",
    "\t\t\t*[\"Hidden layer ({}):\t{} nodes\".format(i, layer[\"nodes\"]) for i, layer in enumerate(self.spec[\"hidden_layers\"])],\n",
    "\t\t\t\"Output layer:\t\t{} nodes\".format(self.spec[\"output_layer\"][\"nodes\"]),\n",
    "\t\t\t\"========================================\",\n",
    "\t\t]))"
   ]
  },
  {
   "cell_type": "code",
   "execution_count": 9,
   "metadata": {},
   "outputs": [
    {
     "name": "stdout",
     "output_type": "stream",
     "text": [
      "========================================\n",
      "Initialised model\n",
      "========================================\n",
      "Input layer: \t\t1 nodes\n",
      "Hidden layer (0):\t2 nodes\n",
      "Hidden layer (1):\t1 nodes\n",
      "Hidden layer (2):\t2 nodes\n",
      "Output layer:\t\t1 nodes\n",
      "========================================\n"
     ]
    }
   ],
   "source": [
    "spec = {\n",
    "\t\"input_layer\": { \"nodes\": 1 },\n",
    "\t\"hidden_layers\": [\n",
    "\t\t{ \"nodes\": 2, \"activation_func\": lambda x: scipy.special.expit(x) },\n",
    "\t\t{ \"nodes\": 1, \"activation_func\": lambda x: scipy.special.expit(x) },\n",
    "\t\t{ \"nodes\": 2, \"activation_func\": lambda x: scipy.special.expit(x) },\n",
    "\t],\n",
    "\t\"output_layer\": { \n",
    "\t\t\"nodes\": 1,\"activation_func\": lambda x: scipy.special.expit(x) \n",
    "\t},\n",
    "}\n",
    "\n",
    "model = AutoEncoder(spec, 0.05)"
   ]
  }
 ],
 "metadata": {
  "kernelspec": {
   "display_name": "Python 3.10.6 64-bit",
   "language": "python",
   "name": "python3"
  },
  "language_info": {
   "codemirror_mode": {
    "name": "ipython",
    "version": 3
   },
   "file_extension": ".py",
   "mimetype": "text/x-python",
   "name": "python",
   "nbconvert_exporter": "python",
   "pygments_lexer": "ipython3",
   "version": "3.10.6"
  },
  "orig_nbformat": 4,
  "vscode": {
   "interpreter": {
    "hash": "aee8b7b246df8f9039afb4144a1f6fd8d2ca17a180786b69acc140d282b71a49"
   }
  }
 },
 "nbformat": 4,
 "nbformat_minor": 2
}
